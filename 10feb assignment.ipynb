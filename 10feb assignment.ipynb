{
 "cells": [
  {
   "cell_type": "markdown",
   "id": "72a8e072-893a-4909-a13e-3918d49a2e2e",
   "metadata": {},
   "source": [
    "Answer-1\n",
    "\n",
    "In Python, we use the open() method to open files.\n",
    "\n",
    "\n",
    "There are 6 access modes in python:\n",
    "Read Only ('r') : Open text file for reading.\n",
    "Read and Write ('r+'): Open the file for reading and writing.\n",
    "Write Only ('w') : Open the file for writing.\n",
    "Write and Read ('w+') : Open the file for reading and writing.\n",
    "Append Only ('a'): Open the file for writing.\n",
    "\n"
   ]
  },
  {
   "cell_type": "markdown",
   "id": "07d332f5-b183-4579-8a44-b4e5f160b3fa",
   "metadata": {},
   "source": [
    "Answer-2\n",
    "\n",
    "The close() method closes an open file.\n",
    "We should always close your files, in some cases, due to buffering, changes made to a file may not show until you close the file."
   ]
  },
  {
   "cell_type": "code",
   "execution_count": 2,
   "id": "e07775c7-6fe5-4128-9731-7d7a01f283e0",
   "metadata": {},
   "outputs": [],
   "source": [
    "#Answer-3\n",
    "\n",
    "\n",
    "file = open(\"myfile.txt\",\"w\")\n",
    "L = [\"This is Lagos \\n\",\"This is Python \\n\",\"This is Fcc \\n\"]\n",
    "\n",
    "file.write(\"Hello There \\n\")\n",
    "file.writelines(L)\n",
    "file.close()\n",
    "\n",
    "# Use the close() to change file access modes"
   ]
  },
  {
   "cell_type": "code",
   "execution_count": null,
   "id": "59e2b397-01a3-45c8-8b28-bdf616ed1439",
   "metadata": {},
   "outputs": [],
   "source": [
    "f = open(\"myfiles.txt\", \"r\")\n",
    "print(f.readline())\n",
    "f.close()"
   ]
  },
  {
   "cell_type": "markdown",
   "id": "51935a5a-96fe-49cd-8858-af93f3d60f3a",
   "metadata": {},
   "source": [
    "#Answer-4\n",
    "\n",
    "- The read() method returns the specified number of bytes from the file. Default is -1 which means the whole file.\n",
    "- The readline() method returns one line from the file. You can also specified how many bytes from the line to       return, by using the size parameter.\n",
    "- readlines() method will return all the lines in a file in the format of a list where each element is a line in     the file."
   ]
  },
  {
   "cell_type": "markdown",
   "id": "5d2a660e-f649-426b-82fa-aa4428f94a2f",
   "metadata": {},
   "source": [
    "#Answer-5\n",
    "\n",
    "The with statement works with the open() function to open a file. Unlike open() where you have to close the file with the close() method, the with statement closes the file for you without you telling it to. This is because the with statement calls 2 built-in methods behind the scene – __enter()__ and __exit()__ .\n",
    "\n",
    "Using with means that the file will be closed as soon as you leave the block. This is beneficial because closing a file is something that can easily be forgotten and ties up resources that you no longer need.\n",
    "\n"
   ]
  },
  {
   "cell_type": "markdown",
   "id": "db542047-b276-4b53-815d-2fa4a33b55c7",
   "metadata": {},
   "source": [
    "#Answer-6\n",
    "\n",
    "Write() method displays the output but do not provide a new line character.\n",
    "\n",
    "WriteLine() method displays the output and also provides a new line character it the end of the string, This would set a new line for the next output.\n",
    "\n"
   ]
  },
  {
   "cell_type": "code",
   "execution_count": null,
   "id": "6574f792-cdf8-440d-9c78-77292c715286",
   "metadata": {},
   "outputs": [],
   "source": [
    "using System;\n",
    "class Program {\n",
    "   static void Main() {\n",
    "      Console.Write(\"One\");\n",
    "      Console.Write(\"Two\");\n",
    "\n",
    "      // this will set a new line for the next output\n",
    "      Console.WriteLine(\"Three\");\n",
    "      Console.WriteLine(\"Four\");\n",
    "   }\n",
    "}"
   ]
  },
  {
   "cell_type": "code",
   "execution_count": 5,
   "id": "abb3868f-db55-458c-ab8e-41a3dccd659f",
   "metadata": {},
   "outputs": [],
   "source": [
    "############################################################"
   ]
  },
  {
   "cell_type": "markdown",
   "id": "3d2a4cbc-000f-448b-8706-e561e2680002",
   "metadata": {},
   "source": [
    "end of assignment"
   ]
  }
 ],
 "metadata": {
  "kernelspec": {
   "display_name": "Python 3 (ipykernel)",
   "language": "python",
   "name": "python3"
  },
  "language_info": {
   "codemirror_mode": {
    "name": "ipython",
    "version": 3
   },
   "file_extension": ".py",
   "mimetype": "text/x-python",
   "name": "python",
   "nbconvert_exporter": "python",
   "pygments_lexer": "ipython3",
   "version": "3.10.8"
  }
 },
 "nbformat": 4,
 "nbformat_minor": 5
}
